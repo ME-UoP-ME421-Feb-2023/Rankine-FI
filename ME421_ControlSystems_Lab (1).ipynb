{
  "nbformat": 4,
  "nbformat_minor": 0,
  "metadata": {
    "colab": {
      "provenance": []
    },
    "kernelspec": {
      "name": "python3",
      "display_name": "Python 3"
    },
    "language_info": {
      "name": "python"
    }
  },
  "cells": [
    {
      "cell_type": "markdown",
      "metadata": {
        "id": "view-in-github"
      },
      "source": [
        "<a href=\"https://colab.research.google.com/github/ME-UoP-ME421/Rankine-FI/blob/main/ME421_ControlSystems_Lab.ipynb\" target=\"_parent\"><img src=\"https://colab.research.google.com/assets/colab-badge.svg\" alt=\"Open In Colab\"/></a>"
      ]
    },
    {
      "cell_type": "markdown",
      "source": [
        "#Instructions"
      ],
      "metadata": {
        "id": "tjwc7ZikCWjn"
      }
    },
    {
      "cell_type": "markdown",
      "source": [
        "* This is a group assignment. Complete the activities in groups that were assigned for ME421 for the vibrations lab.\n",
        "\n",
        "* Make a copy of this and save it in your group github group repository.\n",
        "\n",
        "* Do all your work, EXCLUSIVELY, in that saved notebook. Your github commits will serve as a refelection of your individual contributions. It will constitute 25% of your final grade for the lab.\n",
        "\n",
        "* Complete Tasks#1 and Task#2 by 5:00PM on 14/06/2023\n",
        "\n",
        "* Complete Tasks#3 and the Task#4 by 5:00PM on 21/06/2023 and demonstrate the work in the class on 21/06/2023.\n",
        "\n",
        "* Complete Task#5 by 5:00PM on 28/06/2023."
      ],
      "metadata": {
        "id": "pOeY40kCCZIY"
      }
    },
    {
      "cell_type": "markdown",
      "source": [
        "#References"
      ],
      "metadata": {
        "id": "xQxmvsoX2wtl"
      }
    },
    {
      "cell_type": "markdown",
      "source": [
        "* https://colab.research.google.com/github/mugalan/classical-mechanics-from-a-geometric-point-of-view/blob/main/rigid-body-control/Mugas_Rigid_Body_Control.ipynb\n",
        "\n",
        "* https://github.com/mugalan/classical-mechanics-from-a-geometric-point-of-view/blob/main/rigid-body-control/MaithriPalaDHS_RigidBodyPIDControl_IITB_18_03_2023.pdf"
      ],
      "metadata": {
        "id": "N2PYkHmG2y9o"
      }
    },
    {
      "cell_type": "markdown",
      "source": [
        "#Task#1"
      ],
      "metadata": {
        "id": "JhWYC6Kv2l4k"
      }
    },
    {
      "cell_type": "markdown",
      "metadata": {
        "id": "GjPELOm2sJQg"
      },
      "source": [
        "Conside a rigid body moving in space. Let $\\mathbf{b}$ be a body fixed frame with the origin coinciding with that of the center of mass of the body, $M$ be the tatal mass of the body, $\\mathbb{I}$ be the inertia tensor of the body with respect to the body frame $\\mathbf{b}$, $f^e$ be the resultant total external interactions acting on the particles of the body, and $\\tau^e$ be the total resultant of the moments of the external interactions about the center of mass of the body.\n",
        "\n",
        "Show that a general rigid body is descibed by the following simple equations in an inertial frame $\\mathbf{e}$ where the moments are taken about the center of mass of the rigid body."
      ]
    },
    {
      "cell_type": "markdown",
      "metadata": {
        "id": "2FFWl8Whs8HJ"
      },
      "source": [
        "\\begin{align}\n",
        "\\dot{o}&=\\frac{1}{M}p\\\\\n",
        "\\dot{R}&=\\widehat{\\omega}R,\\\\\n",
        "\\dot{p}&=f^e+f^u,\\\\\n",
        "\\dot{\\pi}&=\\tau^e+\\tau^u,\n",
        "\\end{align}\n",
        "where\n",
        "\\begin{align}\n",
        "\\omega &=(\\mathbb{I}_c^R)^{-1}\\pi,\n",
        "\\end{align}\n",
        "Here we have split the force and control moments into unmanipulatable and manipulatable (control) part. The manipulatable (control) part will be denoted by a superscript $u$."
      ]
    },
    {
      "cell_type": "markdown",
      "source": [
        "#Answer"
      ],
      "metadata": {
        "id": "r2xvLl57HnmO"
      }
    },
    {
      "cell_type": "markdown",
      "source": [
        "To derive the equation $\\dot{o} = \\frac{1}{M}p$, we will start by considering the principles of mechanics for a rigid body in motion.\n",
        "\n",
        "Newton's second law states that the rate of change of momentum of an object is equal to the net force acting on it. In vector form, this law can be expressed as:\n",
        "\n",
        "\\begin{equation}\n",
        "\\frac{d\\mathbf{p}}{dt} = \\sum \\mathbf{F},\n",
        "\\end{equation}\n",
        "\n",
        "where $\\frac{d\\mathbf{p}}{dt}$ is the derivative of the momentum vector $\\mathbf{p}$ with respect to time, and $\\sum \\mathbf{F}$ represents the sum of all external forces acting on the body.\n",
        "\n",
        "For a rigid body, the total linear momentum $\\mathbf{p}$ is the sum of the linear momenta of all particles in the body. Mathematically, it can be written as:\n",
        "\n",
        "\\begin{equation}\n",
        "\\mathbf{p} = \\sum m_i \\mathbf{v}_i,\n",
        "\\end{equation}\n",
        "\n",
        "where $m_i$ is the mass of the $i$-th particle, and $\\mathbf{v}_i$ is its velocity.\n",
        "\n",
        "The center of mass of a rigid body can be defined as the weighted average of the positions of all particles, where the weights are given by the masses of the particles. Mathematically, it can be expressed as:\n",
        "\n",
        "\\begin{equation}\n",
        "\\mathbf{o} = \\frac{1}{M} \\sum m_i \\mathbf{r}_i,\n",
        "\\end{equation}\n",
        "\n",
        "where $\\mathbf{o}$ is the position vector of the center of mass, $\\mathbf{r}_i$ is the position vector of the $i$-th particle, and $M$ is the total mass of the body given by $M = \\sum m_i$.\n",
        "\n",
        "Now, let's differentiate the equation for the center of mass position with respect to time to find its rate of change:\n",
        "\n",
        "\\begin{align}\n",
        "\\dot{\\mathbf{o}} &= \\frac{d}{dt} \\left( \\frac{1}{M} \\sum m_i \\mathbf{r}_i \\right) \\\n",
        "&= \\frac{1}{M} \\sum m_i \\frac{d\\mathbf{r}_i}{dt} \\\n",
        "&= \\frac{1}{M} \\sum m_i \\mathbf{v}_i \\\n",
        "&= \\frac{1}{M} \\mathbf{p}.\n",
        "\\end{align}\n",
        "\n",
        "In the third step, we used the fact that the derivative of the position vector with respect to time gives the velocity vector, so $\\frac{d\\mathbf{r}_i}{dt} = \\mathbf{v}_i$.\n",
        "\n",
        "Thus, we have derived the equation $\\dot{\\mathbf{o}} = \\frac{1}{M} \\mathbf{p}$, which shows that the rate of change of the center of mass position is equal to the total linear momentum divided by the total mass of the body.\n",
        "\n",
        "This equation is an important result in rigid body dynamics as it relates the motion of the center of mass to the total linear momentum of the body. It implies that the center of mass moves with a velocity proportional to the total linear momentum and inversely proportional to the total mass.\n",
        "\n",
        "In the given set of equations, $\\dot{o} = \\frac{1}{M}p$ represents the translation of the center of mass. The other equations describe the rotational motion of the body.\n",
        "\n",
        "The equation $\\dot{R} = \\widehat{\\omega}R$ represents the time derivative of the rotation matrix $R$ that represents the orientation of the body-fixed frame with respect to the inertial frame. Here, $\\widehat{\\omega}$ is the skew-symmetric matrix formed from the angular velocity vector $\\omega$, defined as $\\omega = (\\mathbb{I}_c^R)^{-1}\\pi$. The matrix $\\widehat{\\omega}$ relates the time derivative of the rotation matrix to the angular velocity.\n",
        "\n",
        "The equation $\\dot{p} = f^e + f^u$ represents the time derivative of the linear momentum $p$ of the body, taking into account both the resultant external interactions $f^e$ and the manipulatable (control) force $f^u$.\n",
        "\n",
        "Similarly, the equation $\\dot{\\pi} = \\tau^e + \\tau^u$ represents the time derivative of the angular momentum $\\pi$ of the body, considering both the resultant moments of the external interactions $\\tau^e$ and the manipulatable (control) moments $\\tau^u$.\n"
      ],
      "metadata": {
        "id": "M_748lsEIiMU"
      }
    },
    {
      "cell_type": "markdown",
      "source": [
        "We can derive the equation $\\dot{R} = \\widehat{\\boldsymbol{\\omega}} R$ for the rotational motion of a rigid body using basic principles of rotational kinematics. Consider a rigid body rotating in three-dimensional space, with an orientation represented by a rotation matrix $R$ that maps coordinates from the body-fixed frame to the inertial frame. The angular velocity vector $\\boldsymbol{\\omega}$ describes the rate at which the body is rotating, and its skew-symmetric matrix representation is denoted by $\\widehat{\\boldsymbol{\\omega}}$, which is given by:\n",
        "\n",
        "\\begin{equation}\n",
        "\\widehat{\\boldsymbol{\\omega}} = \\begin{bmatrix} 0 & -\\omega_z & \\omega_y \\ \\omega_z & 0 & -\\omega_x \\ -\\omega_y & \\omega_x & 0 \\end{bmatrix}.\n",
        "\\end{equation}\n",
        "\n",
        "The time derivative of the rotation matrix $R$ represents the rate of change of the orientation of the body, and it can be expressed as $\\dot{R}$. To derive the equation $\\dot{R} = \\widehat{\\boldsymbol{\\omega}} R$, we start by considering a point $P$ fixed in the body frame, with position vector in the inertial frame given by $\\mathbf{r} = R \\mathbf{r}_0$, where $\\mathbf{r}_0$ is the position vector of $P$ in the body-fixed frame.\n",
        "\n",
        "The velocity $\\mathbf{v}$ of point $P$ is given by the cross product of the angular velocity $\\boldsymbol{\\omega}$ and its position vector $\\mathbf{r}$, i.e., $\\mathbf{v} = \\boldsymbol{\\omega} \\times \\mathbf{r}$. Taking the time derivative of $\\mathbf{r}$ and equating it with the expression for $\\mathbf{v}$, we obtain:\n",
        "\n",
        "\\begin{align}\n",
        "\\dot{\\mathbf{r}} &= \\frac{d}{dt} (R \\mathbf{r}_0) = \\dot{R} \\mathbf{r}_0, \\\n",
        "\\boldsymbol{\\omega} \\times \\mathbf{r} &= \\dot{\\mathbf{r}} = \\dot{R} \\mathbf{r}_0.\n",
        "\\end{align}\n",
        "\n",
        "Substituting $\\mathbf{r} = R \\mathbf{r}_0$ into the above equation, we get:\n",
        "\n",
        "\\begin{align}\n",
        "\\boldsymbol{\\omega} \\times (R \\mathbf{r}_0) &= \\dot{R} (R \\mathbf{r}_0), \\\n",
        "\\boldsymbol{\\omega} \\times \\mathbf{r}_0 &= \\widehat{\\boldsymbol{\\omega}} \\mathbf{r}_0 = \\dot{R} R^{-1} (R \\mathbf{r}_0) = \\dot{R} \\mathbf{r}_0,\n",
        "\\end{align}\n",
        "\n",
        "where we have used the fact that $R^{-1} R = \\mathbf{1}$, where $\\mathbf{1}$ is the identity matrix. Therefore, we have shown that $\\boldsymbol{\\omega} \\times \\mathbf{r}_0 = \\widehat{\\boldsymbol{\\omega}} \\mathbf{r}_0 = \\dot{R} \\mathbf{r}_0$.\n",
        "\n",
        "This result can be expressed in matrix form by using the fact that any vector $\\mathbf{v}$ can be written as a linear combination of the basis vectors $\\mathbf{e}_i$ of the body-fixed frame, i.e., $\\mathbf{v} = \\sum_i v_i \\mathbf{e}_i$. Multiplying both sides of $\\boldsymbol{\\omega} \\times \\mathbf{r}_0 = \\dot{R} \\mathbf{r}_0$ by the matrix $[\\mathbf{e}_1 \\ \\mathbf{e}_2 \\ \\mathbf{e}_3]$ whose columns are the basis vectors, we obtain:\n",
        "\n",
        "\\begin{equation}\n",
        "\\widehat{\\boldsymbol{\\omega}} [\\mathbf{r}0]{\\times} = \\dot{R} R^{-1} [\\mathbf{r}0]{\\times},\n",
        "\\end{equation}\n",
        "\n",
        "where $[\\mathbf{r}0]{\\times}$ is the skew-symmetric matrix representation of the position vector $\\mathbf{r}_0$, which is given by:\n",
        "\n",
        "\\begin{equation}\n",
        "[\\mathbf{r}0]{\\times} = \\begin{bmatrix} 0 & -r_{0z} & r_{0y} \\ r_{0z} & 0 & -r_{0x} \\ -r_{0y} & r_{0x} & 0 \\end{bmatrix}.\n",
        "\\end{equation}\n",
        "\n",
        "Since this equation holds for any vector $\\mathbf{r}_0$, we can write it in terms of the skew-symmetric matrices $[\\mathbf{e}i]{\\times}$ as:\n",
        "\n",
        "\\begin{equation}\n",
        "\\widehat{\\boldsymbol{\\omega}} = \\dot{R} R^{-1} = R \\dot{R}^{-1} \\dot{R} R^{-1} = R \\dot{R}^{-1} = R \\widehat{\\boldsymbol{\\omega}}^*,\n",
        "\\end{equation}\n",
        "\n",
        "where $\\widehat{\\boldsymbol{\\omega}}^* = \\dot{R} R^{-1}$ is the skew-symmetric matrix representation of the derivative of the rotation matrix. This gives us the final result:\n",
        "\n",
        "\\begin{equation}\n",
        "\\dot{R} = \\widehat{\\boldsymbol{\\omega}} R,\n",
        "\\end{equation}\n",
        "\n",
        "which relates the time derivative of the rotation matrix $\\dot{R}$ to the skew-symmetric matrix $\\widehat{\\boldsymbol{\\omega}}$ for the rotational motion of a rigid body. This equation is known as the rotation matrix derivative equation, and it is a fundamental equation in rotational dynamics."
      ],
      "metadata": {
        "id": "V3937o45IhY8"
      }
    },
    {
      "cell_type": "markdown",
      "source": [
        "#Task#2"
      ],
      "metadata": {
        "id": "PT5T8y9-3h1H"
      }
    },
    {
      "cell_type": "markdown",
      "source": [
        "Simulate the motion of a quadrotor UAV without resorting any parameterization of $SO(3)$ such as Euler angles or quaternions."
      ],
      "metadata": {
        "id": "iETMxXB04IZj"
      }
    },
    {
      "cell_type": "markdown",
      "source": [
        "#Task#3"
      ],
      "metadata": {
        "id": "iYtoUarB4L6Q"
      }
    },
    {
      "cell_type": "markdown",
      "source": [
        "Deerive a PID controller for the attitude control of a quadrorotor and use simulations to demibstrate the very large region of stability of the controller"
      ],
      "metadata": {
        "id": "AxOY5o-34TCz"
      }
    },
    {
      "cell_type": "markdown",
      "source": [
        "Here are few example our own implementations of this controller.\n",
        "\n",
        "* https://youtu.be/6E9WDQNVSYA\n",
        "* https://youtu.be/uUKxXImRMOA\n",
        "* https://youtu.be/zq05N8m_9SA\n",
        "* https://youtu.be/J5dThZGZN2g\n",
        "* https://youtu.be/J5MMp6Be3tU\n",
        "* https://youtu.be/6ZQgE1FI6Wc"
      ],
      "metadata": {
        "id": "cInu25giFEXw"
      }
    },
    {
      "cell_type": "markdown",
      "source": [
        "#Task#4"
      ],
      "metadata": {
        "id": "o6XRW2MR4nVw"
      }
    },
    {
      "cell_type": "markdown",
      "source": [
        "Derive a specialization of the controller develoed in Task#3 for the problem of stabilzing an inverted pendulum on a cart."
      ],
      "metadata": {
        "id": "u9vdw-yM4rem"
      }
    },
    {
      "cell_type": "markdown",
      "source": [
        "#Task#5"
      ],
      "metadata": {
        "id": "jkEiEv8sEPhG"
      }
    },
    {
      "cell_type": "markdown",
      "source": [
        " Experimentally verify the stability properties of the controller derived in Task#5 using the experimental setup available in the applied mechanics lab."
      ],
      "metadata": {
        "id": "w2WRdKSTEQ7i"
      }
    }
  ]
}