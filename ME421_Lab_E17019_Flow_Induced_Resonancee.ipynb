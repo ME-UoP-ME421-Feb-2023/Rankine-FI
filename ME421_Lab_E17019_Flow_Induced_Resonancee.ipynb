{
  "nbformat": 4,
  "nbformat_minor": 0,
  "metadata": {
    "colab": {
      "provenance": []
    },
    "kernelspec": {
      "name": "python3",
      "display_name": "Python 3"
    },
    "language_info": {
      "name": "python"
    }
  },
  "cells": [
    {
      "cell_type": "markdown",
      "source": [
        "# Flow Induced Resonance: Group Rankine-FI#"
      ],
      "metadata": {
        "id": "x1R2hUFwkMkj"
      }
    },
    {
      "cell_type": "markdown",
      "source": [
        "#Problem identification#\n",
        "\n",
        "problem was derived a half of the cross sectinal vertex sheading.That phenomena does not depend on the stifness of the spring and mass. And also this behavior is called as dynamic instability.Tipically in damping which has a force opposes the velocity but this cases whichever direction wood moves in whatever sirection it has a velocity and it gets an extra push in that same direction .if it has a downward velocity .it is gets downward force .if it has a upward velocity it is get a upward force. So that phenomena is called dynamic instability or self excited vibration"
      ],
      "metadata": {
        "id": "OJrH0zkulOB7"
      }
    },
    {
      "cell_type": "markdown",
      "source": [
        "#02) Derive a finite dimensional approximation of the small amplitude motion of the system\n",
        "Flow-induced resonance (FIR) is a phenomenon that occurs when a fluid flow interacts with a flexible structure, causing the structure to vibrate at its natural frequency. where a two-dimensional structure is placed perpendicular to a uniform flow.\n",
        "\n",
        "To derive a finite dimensional approximation of the small amplitude motion of the FIR of the half cross section, we can use the linearized equations of motion, they take the form of a system of partial differential equations.\n",
        "\n",
        "To obtain a finite dimensional approximation, we need to discretize the equations of motion by approximating the continuous structure as a set of discrete elements. We can then write the equations of motion in terms of the displacements of these degrees of freedom.\n",
        "\n",
        "use a finite element method, which involves dividing the structure into a set of finite elements and approximating the displacements within each element using a set of basis functions. The basis functions are chosen to satisfy the boundary conditions at the nodes of the elements, and the displacement field is interpolated between the nodes using these basis functions.\n",
        "\n",
        "Once the structure has been discretized, we can use the linearized equations of motion to derive a set of linear algebraic equations that relate the displacements of the degrees of freedom to the fluid forces acting on the structure. These equations take the form of a matrix equation, where the coefficients of the matrix depend on the properties of the structure and the fluid flow.\n",
        "\n",
        "To obtain a finite dimensional approximation of the small amplitude motion of the FIR, we can then solve this matrix equation numerically using a suitable solver, such as an eigensolver, to find the natural frequencies and mode shapes of the structure. These quantities can be used to predict the response of the structure to different flow conditions and to design structures that are less prone to FIR."
      ],
      "metadata": {
        "id": "FYjczYhYkUkB"
      }
    },
    {
      "cell_type": "markdown",
      "source": [
        "The linearized equations of motion for flow induced resonance of half of the cross section can be derived by considering the small amplitude vibrations of the structure under the influence of fluid forces. The resulting equations can be expressed as a set of linear algebraic equations.\n",
        "\n",
        "The linearized equations of motion for a half cross section can be written as:\n",
        "\n",
        "\\begin{equation}\n",
        "M \\ddot{u} + K u = F\n",
        "\\end{equation}\n",
        "\n",
        "where $M$ is the mass matrix, $K$ is the stiffness matrix, $u$ is the displacement vector, and $F$ is the force vector. The mass matrix is given by:\n",
        "\n",
        "\\begin{equation}\n",
        "M = \\begin{bmatrix}\n",
        "\\rho A & 0 & 0 \\\\\n",
        "0 & \\rho I_z & 0 \\\\\n",
        "0 & 0 & \\rho I_y\n",
        "\\end{bmatrix}\n",
        "\\end{equation}\n",
        "​\n",
        " \n",
        "where $\\rho$ is the density of the structure, $A$ is the cross-sectional area, and $I_z$ and $I_y$ are the second moments of area about the $z$ and $y$ axes, respectively. The stiffness matrix is given by:\n",
        "\n",
        "\\begin{equation}\n",
        "K = \\begin{bmatrix}\n",
        "k_x & k_{xy} & k_{xz} \\\\\n",
        "k_{xy} & k_y & k_{yz} \\\\\n",
        "k_{xz} & k_{yz} & k_z\n",
        "\\end{bmatrix}\n",
        "\\end{equation}\n",
        "​\n",
        " \n",
        "where $k_x$, $k_y$, and $k_z$ are the stiffness coefficients in the $x$, $y$, and $z$ directions, respectively, and $k_{xy}$, $k_{xz}$, and $k_{yz}$ are the shear stiffness coefficients. These coefficients can be computed using the equations for the structural modes and the fluid forces.\n",
        "\n",
        "The force vector $F$ can be expressed as:\n",
        "\n",
        "\\begin{equation}\n",
        "F = \\begin{bmatrix}\n",
        "f_x \\\\\n",
        "f_y \\\\\n",
        "f_z\n",
        "\\end{bmatrix}\n",
        "\\end{equation}\n",
        "​\n",
        " \n",
        "where $f_x$, $f_y$, and $f_z$ are the components of the fluid forces acting on the structure in the $x$, $y$, and $z$ directions, respectively. These forces can be computed using the linearized equations for fluid forces and the boundary conditions for the problem.\n",
        "\n",
        "The resulting set of linear algebraic equations can be solved to determine the displacement vector $u$, which describes the small amplitude vibrations of the structure under the influence of fluid forces."
      ],
      "metadata": {
        "id": "blOEhWGn5BR5"
      }
    },
    {
      "cell_type": "markdown",
      "source": [
        "The linearized equations of motion for the half cross section under the influence of fluid forces can be written in the form of a partial differential equation:\n",
        "\n",
        "\\begin{equation}\n",
        "\\rho A \\frac{\\partial^2 u}{\\partial t^2} + \\rho A U \\frac{\\partial^2 u}{\\partial x^2} + \\rho A h \\frac{\\partial^2 u}{\\partial y^2} + k_g u = f\n",
        "\\end{equation}\n",
        "\n",
        "\n",
        "where:\n",
        "\n",
        "u(x,y,t) is the displacement of the structure at position (x,y) and time t.\n",
        "\n",
        "ρ is the fluid density\n",
        "\n",
        "A is the cross-sectional area of the structure\n",
        "\n",
        "U is the free-stream velocity of the fluid\n",
        "\n",
        "h is the height of the structure\n",
        "\n",
        "k_g is the structural stiffness per unit length\n",
        "f(x,y,t) is the external forcing function acting on the structure.\n",
        "\n",
        "This equation is derived using the linearized Navier-Stokes equations for an incompressible, inviscid flow, along with the equations of linear elasticity for the structural response. The equation assumes small amplitude motion, so that the displacement of the structure is small compared to the dimensions of the structure.\n",
        "\n",
        "To obtain a finite dimensional approximation of this equation, we can discretize the structure using a finite element method, and then write the equation in terms of the nodal displacements of the finite elements. This will give us a set of linear algebraic equations that can be solved numerically to obtain the natural frequencies and mode shapes of the structure, as well as its response to different external forcing functions."
      ],
      "metadata": {
        "id": "sO7oIgq6r3o1"
      }
    },
    {
      "cell_type": "code",
      "source": [
        "from dolfin import *\n",
        "\n",
        "# Define the mesh\n",
        "mesh = Mesh(\"half_cross_section.xml\")\n",
        "\n",
        "# Define the function space\n",
        "V = VectorFunctionSpace(mesh, \"Lagrange\", 1)\n",
        "\n",
        "# Define the boundary conditions\n",
        "u_L = Constant((0, 0))\n",
        "u_R = Constant((0, 0))\n",
        "bc_L = DirichletBC(V, u_L, \"near(x[0], 0)\")\n",
        "bc_R = DirichletBC(V, u_R, \"near(x[0], 1)\")\n",
        "\n",
        "# Define the variational problem\n",
        "u = TrialFunction(V)\n",
        "v = TestFunction(V)\n",
        "rho = Constant(1)\n",
        "A = Constant(1)\n",
        "U = Constant(1)\n",
        "h = Constant(1)\n",
        "kg = Constant(1)\n",
        "f = Constant((0, 0))\n",
        "a = rho*A*inner(u, v)*dx + rho*A*U*inner(grad(u), grad(v))*dx + rho*A*h*inner(curl(curl(u)), v)*dx + kg*inner(u, v)*dx\n",
        "L = inner(f, v)*dx\n",
        "\n",
        "# Solve the variational problem\n",
        "u = Function(V)\n",
        "solve(a == L, u, [bc_L, bc_R])\n",
        "\n",
        "# Plot the first four modes\n",
        "plot(u[0], title=\"Mode 1\")\n",
        "plot(u[1], title=\"Mode 2\")\n",
        "plot(u[2], title=\"Mode 3\")\n",
        "plot(u[3], title=\"Mode 4\")\n",
        "interactive()"
      ],
      "metadata": {
        "colab": {
          "base_uri": "https://localhost:8080/",
          "height": 393
        },
        "id": "eJKbbWAvrpXG",
        "outputId": "44407caf-4e25-499d-88bd-7d6058971f86"
      },
      "execution_count": null,
      "outputs": [
        {
          "output_type": "error",
          "ename": "ModuleNotFoundError",
          "evalue": "ignored",
          "traceback": [
            "\u001b[0;31m---------------------------------------------------------------------------\u001b[0m",
            "\u001b[0;31mModuleNotFoundError\u001b[0m                       Traceback (most recent call last)",
            "\u001b[0;32m<ipython-input-1-2a7a470e5ea4>\u001b[0m in \u001b[0;36m<cell line: 1>\u001b[0;34m()\u001b[0m\n\u001b[0;32m----> 1\u001b[0;31m \u001b[0;32mfrom\u001b[0m \u001b[0mdolfin\u001b[0m \u001b[0;32mimport\u001b[0m \u001b[0;34m*\u001b[0m\u001b[0;34m\u001b[0m\u001b[0;34m\u001b[0m\u001b[0m\n\u001b[0m\u001b[1;32m      2\u001b[0m \u001b[0;34m\u001b[0m\u001b[0m\n\u001b[1;32m      3\u001b[0m \u001b[0;31m# Define the mesh\u001b[0m\u001b[0;34m\u001b[0m\u001b[0;34m\u001b[0m\u001b[0m\n\u001b[1;32m      4\u001b[0m \u001b[0mmesh\u001b[0m \u001b[0;34m=\u001b[0m \u001b[0mMesh\u001b[0m\u001b[0;34m(\u001b[0m\u001b[0;34m\"half_cross_section.xml\"\u001b[0m\u001b[0;34m)\u001b[0m\u001b[0;34m\u001b[0m\u001b[0;34m\u001b[0m\u001b[0m\n\u001b[1;32m      5\u001b[0m \u001b[0;34m\u001b[0m\u001b[0m\n",
            "\u001b[0;31mModuleNotFoundError\u001b[0m: No module named 'dolfin'",
            "",
            "\u001b[0;31m---------------------------------------------------------------------------\u001b[0;32m\nNOTE: If your import is failing due to a missing package, you can\nmanually install dependencies using either !pip or !apt.\n\nTo view examples of installing some common dependencies, click the\n\"Open Examples\" button below.\n\u001b[0;31m---------------------------------------------------------------------------\u001b[0m\n"
          ],
          "errorDetails": {
            "actions": [
              {
                "action": "open_url",
                "actionText": "Open Examples",
                "url": "/notebooks/snippets/importing_libraries.ipynb"
              }
            ]
          }
        }
      ]
    },
    {
      "cell_type": "markdown",
      "source": [
        "#Simulate and animate the small amplitude motion of the system#"
      ],
      "metadata": {
        "id": "_dTmkngy7uwa"
      }
    },
    {
      "cell_type": "code",
      "source": [
        "import numpy as np\n",
        "\n",
        "# Define system parameters\n",
        "rho = 1000  # Density (kg/m^3)\n",
        "A = 1  # Area (m^2)\n",
        "U = 10  # Flow velocity (m/s)\n",
        "h = 0.5  # Height of the half-circular cross section (m)\n",
        "D = 1  # Diameter of the full circular cross section (m)\n",
        "Iz = np.pi/64 * D**4  # Second moment of area about z-axis (m^4)\n",
        "Iy = np.pi/64 * D**4  # Second moment of area about y-axis (m^4)\n",
        "\n",
        "# Define random excitation forces\n",
        "fx = 2 * 1000  # Force in x-direction (N)\n",
        "fy = 2 * 1000  # Force in y-direction (N)\n",
        "fz = 0* 1000  # Force in z-direction (N)\n",
        "F = np.array([fx, fy, fz]).reshape((3, 1))\n",
        "\n",
        "# Define random stiffness matrix\n",
        "kx =0.01 * 10000  # Stiffness in x-direction (N/m)\n",
        "ky = 0.01 * 10000  # Stiffness in y-direction (N/m)\n",
        "kz = 0* 10000  # Stiffness in z-direction (N/m)\n",
        "kxy =0.01 * 10000  # Stiffness in xy-direction (N/m)\n",
        "kxz =0 * 10000  # Stiffness in xz-direction (N/m)\n",
        "kyz =0* 10000  # Stiffness in yz-direction (N/m)\n",
        "K = np.array([[kx, kxy, kxz], [kxy, ky, kyz], [kxz, kyz, kz]])\n"
      ],
      "metadata": {
        "id": "oSXKyV3q7tP1"
      },
      "execution_count": null,
      "outputs": []
    },
    {
      "cell_type": "code",
      "source": [
        "import numpy as np\n",
        "import matplotlib.pyplot as plt\n",
        "\n",
        "# Solve linear system of equations\n",
        "M = np.array([[rho*A, 0, 0], [0, rho*Iz, 0], [0, 0, rho*Iy]])\n",
        "M_inv=np.linalg.inv(M)\n",
        "omega_sq, modes = np.linalg.eig(K @ M_inv)\n",
        "\n",
        "# Sort eigenvalues and eigenvectors by increasing frequency\n",
        "idx = omega_sq.argsort()\n",
        "omega_sq = omega_sq[idx]\n",
        "modes = modes[:, idx]\n",
        "\n",
        "# Normalize modes to have unit mass\n",
        "for i in range(modes.shape[1]):\n",
        "    modes[:, i] = modes[:, i] / np.sqrt(np.dot(np.dot(modes[:, i], M), modes[:, i]))\n",
        "\n",
        "# Set simulation parameters\n",
        "t = np.linspace(0, 1, 1000)\n",
        "dt = t[1] - t[0]\n",
        "u = np.zeros((3, len(t)))\n",
        "\n",
        "# Simulate system response for first four modes\n",
        "for i in range(4):\n",
        "    omega = np.sqrt(omega_sq[i])\n",
        "    phi = modes[:, i].reshape((3, 1))\n",
        "    c = phi.T @ F / (omega_sq[i] * rho * A)\n",
        "    u += np.real(c * phi @ np.exp(1j*omega*t.reshape((1, -1))))\n",
        "\n",
        "# Plot results\n",
        "fig, axs = plt.subplots(3, sharex=True, figsize=(8, 8))\n",
        "axs[0].plot(t, u[0, :])\n",
        "axs[0].set_ylabel('Displacement in x-direction (m)')\n",
        "axs[1].plot(t, u[1, :])\n",
        "axs[1]"
      ],
      "metadata": {
        "colab": {
          "base_uri": "https://localhost:8080/",
          "height": 393
        },
        "id": "D8tU5G3qCpYn",
        "outputId": "b0cdf7b0-6301-42b8-bb4d-a359a1e3e870"
      },
      "execution_count": null,
      "outputs": [
        {
          "output_type": "stream",
          "name": "stderr",
          "text": [
            "<ipython-input-11-3b132743acb7>:27: RuntimeWarning: divide by zero encountered in true_divide\n",
            "  c = phi.T @ F / (omega_sq[i] * rho * A)\n",
            "<ipython-input-11-3b132743acb7>:28: RuntimeWarning: invalid value encountered in multiply\n",
            "  u += np.real(c * phi @ np.exp(1j*omega*t.reshape((1, -1))))\n",
            "<ipython-input-11-3b132743acb7>:28: RuntimeWarning: invalid value encountered in matmul\n",
            "  u += np.real(c * phi @ np.exp(1j*omega*t.reshape((1, -1))))\n",
            "<ipython-input-11-3b132743acb7>:27: RuntimeWarning: invalid value encountered in true_divide\n",
            "  c = phi.T @ F / (omega_sq[i] * rho * A)\n"
          ]
        },
        {
          "output_type": "error",
          "ename": "IndexError",
          "evalue": "ignored",
          "traceback": [
            "\u001b[0;31m---------------------------------------------------------------------------\u001b[0m",
            "\u001b[0;31mIndexError\u001b[0m                                Traceback (most recent call last)",
            "\u001b[0;32m<ipython-input-11-3b132743acb7>\u001b[0m in \u001b[0;36m<cell line: 24>\u001b[0;34m()\u001b[0m\n\u001b[1;32m     23\u001b[0m \u001b[0;31m# Simulate system response for first four modes\u001b[0m\u001b[0;34m\u001b[0m\u001b[0;34m\u001b[0m\u001b[0m\n\u001b[1;32m     24\u001b[0m \u001b[0;32mfor\u001b[0m \u001b[0mi\u001b[0m \u001b[0;32min\u001b[0m \u001b[0mrange\u001b[0m\u001b[0;34m(\u001b[0m\u001b[0;36m4\u001b[0m\u001b[0;34m)\u001b[0m\u001b[0;34m:\u001b[0m\u001b[0;34m\u001b[0m\u001b[0;34m\u001b[0m\u001b[0m\n\u001b[0;32m---> 25\u001b[0;31m     \u001b[0momega\u001b[0m \u001b[0;34m=\u001b[0m \u001b[0mnp\u001b[0m\u001b[0;34m.\u001b[0m\u001b[0msqrt\u001b[0m\u001b[0;34m(\u001b[0m\u001b[0momega_sq\u001b[0m\u001b[0;34m[\u001b[0m\u001b[0mi\u001b[0m\u001b[0;34m]\u001b[0m\u001b[0;34m)\u001b[0m\u001b[0;34m\u001b[0m\u001b[0;34m\u001b[0m\u001b[0m\n\u001b[0m\u001b[1;32m     26\u001b[0m     \u001b[0mphi\u001b[0m \u001b[0;34m=\u001b[0m \u001b[0mmodes\u001b[0m\u001b[0;34m[\u001b[0m\u001b[0;34m:\u001b[0m\u001b[0;34m,\u001b[0m \u001b[0mi\u001b[0m\u001b[0;34m]\u001b[0m\u001b[0;34m.\u001b[0m\u001b[0mreshape\u001b[0m\u001b[0;34m(\u001b[0m\u001b[0;34m(\u001b[0m\u001b[0;36m3\u001b[0m\u001b[0;34m,\u001b[0m \u001b[0;36m1\u001b[0m\u001b[0;34m)\u001b[0m\u001b[0;34m)\u001b[0m\u001b[0;34m\u001b[0m\u001b[0;34m\u001b[0m\u001b[0m\n\u001b[1;32m     27\u001b[0m     \u001b[0mc\u001b[0m \u001b[0;34m=\u001b[0m \u001b[0mphi\u001b[0m\u001b[0;34m.\u001b[0m\u001b[0mT\u001b[0m \u001b[0;34m@\u001b[0m \u001b[0mF\u001b[0m \u001b[0;34m/\u001b[0m \u001b[0;34m(\u001b[0m\u001b[0momega_sq\u001b[0m\u001b[0;34m[\u001b[0m\u001b[0mi\u001b[0m\u001b[0;34m]\u001b[0m \u001b[0;34m*\u001b[0m \u001b[0mrho\u001b[0m \u001b[0;34m*\u001b[0m \u001b[0mA\u001b[0m\u001b[0;34m)\u001b[0m\u001b[0;34m\u001b[0m\u001b[0;34m\u001b[0m\u001b[0m\n",
            "\u001b[0;31mIndexError\u001b[0m: index 3 is out of bounds for axis 0 with size 3"
          ]
        }
      ]
    },
    {
      "cell_type": "markdown",
      "source": [
        "\n",
        "# 04) Provide at least two soultions that will allow you to safely operate at frequencies near the second mode of resonance of the system. Justify your answer using simulations and compare the pros and cons of the two solutions.\n",
        "\n",
        "The solutions that can allow safe operation at frequencies near the second mode of resonance of a system:\n",
        "\n",
        "# Damping:\n",
        "\n",
        "One of the most effective ways to safely operate at frequencies near the second mode of resonance is to add damping to the system. Damping can help to reduce the amplitude of the vibrations by dissipating the energy of the vibrations as heat. Damping can be added to the system using various techniques, including adding viscous dampers, friction dampers, or tuned mass dampers. These dampers work by introducing energy dissipation into the system, which reduces the amplitude of the vibrations and allows safe operation at frequencies near the second mode of resonance.\n",
        "\n",
        "#Stiffening:\n",
        "\n",
        "Another way to safely operate at frequencies near the second mode of resonance is to increase the stiffness of the system. By increasing the stiffness of the structure, the natural frequency of the system can be increased, which can help to shift the second mode of resonance to a higher frequency. This can be achieved by adding stiffening elements such as braces, struts, or beams. However, it is important to note that increasing the stiffness can also increase the stresses in the structure, which may need to be carefully considered to ensure safe operation."
      ],
      "metadata": {
        "id": "Vk4lprpN25f7"
      }
    },
    {
      "cell_type": "markdown",
      "source": [
        "#05) Use a Rashpberry Pi based data aquistion system and use that to measure the natural frequencies of the 2-DOF rotational plus translational system in the applied mechanics lab using FFTs methods.\n",
        "\n",
        "sample Python code that can be used to measure the natural frequencies of a 2-DOF rotational plus translational system in the applied mechanics lab using a Raspberry Pi based data acquisition system and FFT methods. python"
      ],
      "metadata": {
        "id": "VhItNC2S3GqR"
      }
    },
    {
      "cell_type": "code",
      "source": [
        "import numpy as np\n",
        "import matplotlib.pyplot as plt\n",
        "import time\n",
        "\n",
        "# Import required libraries for data acquisition and FFT analysis\n",
        "import RPi.GPIO as GPIO\n",
        "import spidev\n",
        "import math\n",
        "\n",
        "# Set up SPI interface for data acquisition from sensor\n",
        "spi = spidev.SpiDev()\n",
        "spi.open(0,0)\n",
        "spi.max_speed_hz = 1350000\n",
        "\n",
        "# Define GPIO pin for data ready signal from sensor\n",
        "DRDY = 26\n",
        "\n",
        "# Set up GPIO pin for data ready signal from sensor\n",
        "GPIO.setmode(GPIO.BCM)\n",
        "GPIO.setup(DRDY, GPIO.IN)\n",
        "\n",
        "# Define sampling frequency and time duration for data acquisition\n",
        "fs = 5000 # Hz\n",
        "duration = 5 # seconds\n",
        "num_samples = fs * duration\n",
        "\n",
        "# Define frequency range of interest for FFT analysis\n",
        "f_min = 0 # Hz\n",
        "f_max = 500 # Hz\n",
        "num_freqs = 500\n",
        "\n",
        "# Initialize data buffer for sensor readings\n",
        "data_buf = []\n",
        "\n",
        "# Wait for data ready signal from sensor\n",
        "while not GPIO.input(DRDY):\n",
        "    time.sleep(0.001)\n",
        "\n",
        "# Start data acquisition\n",
        "for i in range(num_samples):\n",
        "    # Read data from sensor\n",
        "    adc_value = spi.xfer2([0x06,0,0])\n",
        "    adc_value = ((adc_value[1]&0x0F)<<8)+adc_value[2]\n",
        "    voltage = adc_value*3.3/4096\n",
        "    \n",
        "    # Append data to buffer\n",
        "    data_buf.append(voltage)\n",
        "    \n",
        "    # Wait for next sample\n",
        "    time.sleep(1/fs)\n",
        "\n",
        "# Convert data buffer to numpy array for FFT analysis\n",
        "data = np.array(data_buf)\n",
        "\n",
        "# Compute FFT of data using numpy library\n",
        "fft_data = np.fft.fft(data)\n",
        "freqs = np.fft.fftfreq(num_samples, 1/fs)\n",
        "idx = np.where((freqs > f_min) & (freqs < f_max))\n",
        "freqs = freqs[idx]\n",
        "fft_data = fft_data[idx]\n",
        "abs_fft_data = np.abs(fft_data)/num_samples\n",
        "\n",
        "# Find peaks in frequency spectrum for natural frequency detection\n",
        "peaks, _ = scipy.signal.find_peaks(abs_fft_data, height=0.1)\n",
        "\n",
        "# Plot frequency spectrum with peaks\n",
        "plt.plot(freqs, abs_fft_data)\n",
        "plt.plot(freqs[peaks], abs_fft_data[peaks], 'x')\n",
        "plt.xlabel('Frequency (Hz)')\n",
        "plt.ylabel('Amplitude')\n",
        "plt.title('Frequency Spectrum')\n",
        "plt.show()\n",
        "\n",
        "# Determine natural frequencies of the system from peak locations\n",
        "natural_freqs = freqs[peaks]\n",
        "\n",
        "print('Natural Frequencies:', natural_freqs)"
      ],
      "metadata": {
        "id": "N1IwIKvz3PwP",
        "colab": {
          "base_uri": "https://localhost:8080/",
          "height": 373
        },
        "outputId": "80ff369f-5e73-482a-e565-ce2e354102ce"
      },
      "execution_count": 1,
      "outputs": [
        {
          "output_type": "error",
          "ename": "ModuleNotFoundError",
          "evalue": "ignored",
          "traceback": [
            "\u001b[0;31m---------------------------------------------------------------------------\u001b[0m",
            "\u001b[0;31mModuleNotFoundError\u001b[0m                       Traceback (most recent call last)",
            "\u001b[0;32m<ipython-input-1-7953f2560b92>\u001b[0m in \u001b[0;36m<cell line: 6>\u001b[0;34m()\u001b[0m\n\u001b[1;32m      4\u001b[0m \u001b[0;34m\u001b[0m\u001b[0m\n\u001b[1;32m      5\u001b[0m \u001b[0;31m# Import required libraries for data acquisition and FFT analysis\u001b[0m\u001b[0;34m\u001b[0m\u001b[0;34m\u001b[0m\u001b[0m\n\u001b[0;32m----> 6\u001b[0;31m \u001b[0;32mimport\u001b[0m \u001b[0mRPi\u001b[0m\u001b[0;34m.\u001b[0m\u001b[0mGPIO\u001b[0m \u001b[0;32mas\u001b[0m \u001b[0mGPIO\u001b[0m\u001b[0;34m\u001b[0m\u001b[0;34m\u001b[0m\u001b[0m\n\u001b[0m\u001b[1;32m      7\u001b[0m \u001b[0;32mimport\u001b[0m \u001b[0mspidev\u001b[0m\u001b[0;34m\u001b[0m\u001b[0;34m\u001b[0m\u001b[0m\n\u001b[1;32m      8\u001b[0m \u001b[0;32mimport\u001b[0m \u001b[0mmath\u001b[0m\u001b[0;34m\u001b[0m\u001b[0;34m\u001b[0m\u001b[0m\n",
            "\u001b[0;31mModuleNotFoundError\u001b[0m: No module named 'RPi'",
            "",
            "\u001b[0;31m---------------------------------------------------------------------------\u001b[0;32m\nNOTE: If your import is failing due to a missing package, you can\nmanually install dependencies using either !pip or !apt.\n\nTo view examples of installing some common dependencies, click the\n\"Open Examples\" button below.\n\u001b[0;31m---------------------------------------------------------------------------\u001b[0m\n"
          ],
          "errorDetails": {
            "actions": [
              {
                "action": "open_url",
                "actionText": "Open Examples",
                "url": "/notebooks/snippets/importing_libraries.ipynb"
              }
            ]
          }
        }
      ]
    }
  ]
}