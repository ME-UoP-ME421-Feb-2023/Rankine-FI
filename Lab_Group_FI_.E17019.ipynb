{
  "nbformat": 4,
  "nbformat_minor": 0,
  "metadata": {
    "colab": {
      "provenance": []
    },
    "kernelspec": {
      "name": "python3",
      "display_name": "Python 3"
    },
    "language_info": {
      "name": "python"
    }
  },
  "cells": [
    {
      "cell_type": "code",
      "execution_count": null,
      "metadata": {
        "id": "g9WeynmEqLyU"
      },
      "outputs": [],
      "source": []
    },
    {
      "cell_type": "markdown",
      "source": [
        "#ME421 - Vibration - Lab - Group FI\n"
      ],
      "metadata": {
        "id": "PAyhhgacqZVb"
      }
    },
    {
      "cell_type": "markdown",
      "source": [
        "Provide at least two soultions that will allow you to safely operate at frequencies near the second mode of resonance of the system. Justify your answer using simulations and compare the pros and cons of the two solutions."
      ],
      "metadata": {
        "id": "c0vWXDeuqmwT"
      }
    },
    {
      "cell_type": "markdown",
      "source": [
        "The solutions that can allow safe operation at frequencies near the second mode of resonance of a system:\n",
        "\n",
        "Damping: \n",
        "\n",
        "One of the most effective ways to safely operate at frequencies near the second mode of resonance is to add damping to the system. Damping can help to reduce the amplitude of the vibrations by dissipating the energy of the vibrations as heat. Damping can be added to the system using various techniques, including adding viscous dampers, friction dampers, or tuned mass dampers. These dampers work by introducing energy dissipation into the system, which reduces the amplitude of the vibrations and allows safe operation at frequencies near the second mode of resonance.\n",
        "\n",
        "Stiffening: \n",
        "\n",
        "Another way to safely operate at frequencies near the second mode of resonance is to increase the stiffness of the system. By increasing the stiffness of the structure, the natural frequency of the system can be increased, which can help to shift the second mode of resonance to a higher frequency. This can be achieved by adding stiffening elements such as braces, struts, or beams. However, it is important to note that increasing the stiffness can also increase the stresses in the structure, which may need to be carefully considered to ensure safe operation.\n",
        "\n"
      ],
      "metadata": {
        "id": "Tv4YA350q0NY"
      }
    }
  ]
}