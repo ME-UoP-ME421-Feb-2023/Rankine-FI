{
  "nbformat": 4,
  "nbformat_minor": 0,
  "metadata": {
    "colab": {
      "provenance": []
    },
    "kernelspec": {
      "name": "python3",
      "display_name": "Python 3"
    },
    "language_info": {
      "name": "python"
    }
  },
  "cells": [
    {
      "cell_type": "code",
      "execution_count": null,
      "metadata": {
        "id": "gLzP3B9OvVR9"
      },
      "outputs": [],
      "source": [
        "import numpy as np\n",
        "from numpy import linalg\n",
        "import scipy as sp\n",
        "import math\n",
        "from scipy.integrate import odeint\n",
        "#from matplotlib import animation, rc\n",
        "from IPython.display import HTML\n",
        "\n",
        "import plotly.graph_objects as go\n",
        "from sympy import *"
      ]
    },
    {
      "cell_type": "code",
      "source": [
        "class mugas_vibration_functions:\n",
        "  \n",
        "    def __init__(self): \n",
        "        self=[];\n",
        "\n",
        "    def dynamicSystemModel(self, X, t, A, B, cParameters):\n",
        "        dXdt=A @ X + B * self.controlFn(t, cParameters);\n",
        "        self.X=X;\n",
        "        return dXdt\n",
        "\n",
        "    def controlFn(self, t, cParameters):\n",
        "        return cParameters[0]*np.cos(cParameters[1] * t)\n",
        "\n",
        "    def simulateDySystem(self, Tmax, dT, X0, A,B, cParameters, xLabel, yLabel):\n",
        "        t = np.linspace(0, Tmax, int(Tmax/dT+1))\n",
        "        sol = odeint(self.dynamicSystemModel, X0, t, args=(A, B, cParameters));\n",
        "        self.soln=sol;\n",
        "        fig = go.Figure()\n",
        "        [nt,nS]=sol.shape;\n",
        "\n",
        "        # Add traces\n",
        "        for nn in range(nS):\n",
        "            fig.add_trace(go.Scatter(x=t, y=sol[:,nn], mode='lines+markers', name='x'+str(nn+1)))\n",
        "            fig.update_layout(xaxis=dict(title=xLabel),yaxis=dict(title=yLabel))\n",
        "        \n",
        "        fig.show()\n",
        "        return [t,sol,fig] \n",
        "    \n",
        "    def animate_particle_motion(self, XX, axisRange, figTitle):\n",
        "        xx=[jj[0] for jj in XX]\n",
        "        yy=[jj[1] for jj in XX]\n",
        "        zz=[jj[2] for jj in XX]\n",
        "\n",
        "        fig = go.Figure(\n",
        "            data=[go.Scatter3d(x=[xx[0]], y=[yy[0]],z=[zz[0]],\n",
        "                            mode=\"markers\",\n",
        "                            marker=dict(color=\"red\", size=10)),\n",
        "                go.Scatter3d(x=xx, y=yy,z=zz, name='Path',\n",
        "                            mode=\"lines\",\n",
        "                            line=dict(color=\"blue\", width=2))],\n",
        "            layout=go.Layout(\n",
        "                scene = dict(\n",
        "                            xaxis=dict(range=axisRange[0], autorange=False),\n",
        "                            yaxis=dict(range=axisRange[1], autorange=False),\n",
        "                            zaxis=dict(range=axisRange[2], autorange=False),\n",
        "                            aspectratio=dict(x=1, y=1, z=1),\n",
        "                ),\n",
        "                title_text=figTitle, hovermode=\"closest\",\n",
        "                updatemenus=[dict(type=\"buttons\",\n",
        "                                buttons=[dict(label=\"Play\",\n",
        "                                                method=\"animate\",\n",
        "                                                args=[None])])]),\n",
        "            frames=[go.Frame(\n",
        "                data=[go.Scatter3d(\n",
        "                    x=[p[0]],\n",
        "                    y=[p[1]],\n",
        "                    z=[p[2]],\n",
        "                    name='Particle',\n",
        "                    mode=\"markers\",\n",
        "                    marker=dict(color=\"red\", size=10))])\n",
        "\n",
        "                for p in XX]\n",
        "        )\n",
        "\n",
        "        fig.show()\n",
        "        return fig\n",
        "\n",
        "    def animate_2D_scatter_plot(self, x, YY, xlabel, ylabel, title):\n",
        "        fig = go.Figure(data=[go.Scatter(x=x,y=YY[0,:])],\n",
        "                layout=go.Layout(\n",
        "                    xaxis={'title':xlabel},\n",
        "                    yaxis={'title':ylabel,'range':[1.1*YY.min(),1.1*YY.max()]},\n",
        "                    title={'text':title,'y':0.9,'x':0.5, 'xanchor': 'center','yanchor': 'top'},\n",
        "                    scene = dict(aspectratio=dict(x=1, y=1)),    \n",
        "                    hovermode=\"closest\",\n",
        "                    updatemenus=[dict(type=\"buttons\",\n",
        "                                    buttons=[dict(label=\"Play\",\n",
        "                                                    method=\"animate\",\n",
        "                                                    args=[None])])]\n",
        "                    ),\n",
        "            frames=[go.Frame(data=[go.Scatter(x=x,y=y)]) for y in YY]\n",
        "        )\n",
        "\n",
        "        #fig.show()\n",
        "        return fig"
      ],
      "metadata": {
        "id": "VLRYi3YNvYFo"
      },
      "execution_count": null,
      "outputs": []
    },
    {
      "cell_type": "code",
      "source": [
        "mv=mugas_vibration_functions()"
      ],
      "metadata": {
        "id": "K2zUuBS6vdoH"
      },
      "execution_count": null,
      "outputs": []
    },
    {
      "cell_type": "markdown",
      "source": [
        "#Q - Flow Induced Resonance: Group Rankine-FI#"
      ],
      "metadata": {
        "id": "v43izcpwxA_T"
      }
    },
    {
      "cell_type": "markdown",
      "source": [
        "Flow-Induced Resonance (FIR) is a phenomenon where the interaction between fluid flow and a structure leads to vibration at a frequency that is related to the frequency of the fluid flow. FIR is a crucial factor in the design and safety of structures such as bridges, buildings, offshore platforms, and aircraft.\n",
        "\n",
        "The vibration induced by FIR can cause significant damage or failure of structures, making it a critical consideration for engineers. The natural frequency of an object is a key factor in determining its susceptibility to FIR. When the frequency of the fluid flow matches the natural frequency of the object, the amplitude of vibration can increase rapidly, leading to potential damage.\n",
        "\n",
        "To prevent FIR, engineers can modify the design of structures to avoid natural frequencies that are likely to match the frequency of the fluid flow. These modifications can include changes to the shape and mass distribution of the structure, as well as adding dampers or other devices to absorb or dissipate the energy of the vibrations.\n",
        "\n",
        "Numerical simulations and experimental studies are also crucial in identifying potential sources of FIR and developing mitigation strategies. For instance, in the case of offshore platforms, studies have shown that the presence of vortex-induced vibrations (VIV) can lead to FIR. To mitigate this, engineers have developed various solutions, including the use of helical strakes, which disrupt the formation of vortices.\n",
        "\n",
        "In the design of aircraft, FIR is a critical factor in the stability and safety of the aircraft. Engineers use computational fluid dynamics (CFD) simulations to model the interaction between the fluid flow and the aircraft structure. These simulations help identify potential sources of FIR and enable engineers to develop solutions to prevent it.\n",
        "\n",
        "In summary, FIR is a phenomenon that can have significant consequences on the safety and reliability of structures. By understanding the underlying principles and employing mitigation strategies, engineers can ensure that structures are designed to withstand the effects of FIR.\n",
        "\n",
        "\n",
        "\n"
      ],
      "metadata": {
        "id": "1l2dX9TNxEkC"
      }
    },
    {
      "cell_type": "markdown",
      "source": [
        "Flow-induced resonance (FIR) is a phenomenon that can cause significant damage or failure of structures when fluid flow passing over an object induces vibration at the same frequency as the natural frequency of the object. In the field of engineering, understanding the equations related to vibration is crucial for preventing FIR and ensuring the safety and reliability of structures.\n",
        "\n",
        "The natural frequency equation relates the natural frequency of an object to its physical properties, such as its mass, stiffness, and damping coefficient. In the case of FIR, modifying the shape and design of structures can affect their natural frequency and prevent resonance from occurring.\n",
        "\n",
        "The damping equation describes the damping force that opposes the motion of a vibrating object. Adding dampers or other devices to absorb or dissipate the energy of the vibrations can help prevent FIR.\n",
        "\n",
        "The forced vibration equation describes the motion of an object subjected to an external force, such as the fluid flow in the case of FIR. In engineering, numerical simulations and experimental studies can be performed to identify the external forces acting on a structure and develop mitigation strategies.\n",
        "\n",
        "The resonance frequency equation describes the frequency at which resonance occurs between an object and an external force. In the case of FIR, this frequency is the same as the natural frequency of the object. Engineers use computational fluid dynamics simulations to model the interaction between fluid flow and structures and identify potential sources of FIR.\n",
        "\n",
        "For instance, in the design of offshore platforms, the presence of vortex-induced vibrations (VIV) can lead to FIR. Engineers have developed solutions such as helical strakes to disrupt the formation of vortices and prevent VIV-induced FIR.\n",
        "\n",
        "In summary, the equations related to vibration play a critical role in preventing FIR and ensuring the safety and reliability of structures. Through modifications to the design and shape of structures, the addition of dampers, and the use of numerical simulations and experimental studies, engineers can identify potential sources of FIR and develop mitigation strategies."
      ],
      "metadata": {
        "id": "vKFkTBWsyB-w"
      }
    },
    {
      "cell_type": "markdown",
      "source": [
        "Vortex shedding frequency:\n",
        "\n",
        "In many cases, the frequency of fluid flow passing over an object and inducing vibrations is related to the phenomenon of vortex shedding. Vortex shedding is the alternating formation and shedding of vortices as fluid flows past an object. The frequency of vortex shedding can be calculated using the Strouhal number:\n",
        "\n",
        "$St = \\frac{f D}{V}$\n",
        "\n",
        "where $St$ is the Strouhal number, $f$ is the frequency of vortex shedding, $D$ is the characteristic dimension of the object (such as its width), and $V$ is the velocity of the fluid flow.\n",
        "\n",
        "The frequency of vibration induced by vortex shedding can be estimated by assuming that the natural frequency of the object is close to the frequency of vortex shedding:\n",
        "\n",
        "$f_{induced} = k f_{vortex}$\n",
        "\n",
        "where $f_{induced}$ is the frequency of vibration induced by the fluid flow, $f_{vortex}$ is the frequency of vortex shedding, and $k$ is a constant that depends on the specific geometry of the object.\n",
        "\n",
        "Von Karman vortex street:\n",
        "\n",
        "In some cases, the fluid flow passing over an object can induce a Von Karman vortex street, which is a repeating pattern of vortices that can lead to significant vibration and potential FIR. The frequency of Von Karman vortex shedding can be calculated using the Strouhal number, as described above.\n",
        "\n",
        "The amplitude of vibration induced by Von Karman vortex shedding can be estimated using the following equation:\n",
        "\n",
        "$A = C_d \\frac{\\rho V^2 D^2}{2 \\pi^2 f_n^2 m}$\n",
        "\n",
        "where $A$ is the amplitude of vibration, $C_d$ is the drag coefficient of the object, $\\rho$ is the density of the fluid, $V$ is the velocity of the fluid flow, $D$ is the characteristic dimension of the object, $f_n$ is the natural frequency of the object, and $m$ is its mass.\n",
        "\n",
        "Flutter speed:\n",
        "\n",
        "Flutter is a type of FIR that occurs when the natural frequency of a structure is close to the frequency of the fluid flow passing over it. Flutter can lead to large-amplitude vibrations and potentially catastrophic failure. The flutter speed is the speed at which flutter occurs. It can be estimated using the following equation:\n",
        "\n",
        "$U_f = \\frac{f_n}{k_a D}$\n",
        "\n",
        "where $U_f$ is the flutter speed, $f_n$ is the natural frequency of the structure, $k_a$ is the aerodynamic stiffness coefficient, and $D$ is the characteristic dimension of the structure.\n",
        "\n",
        "In summary, these additional equations and calculations can help engineers better understand and mitigate the risk of FIR in structures subjected to fluid flow. By using these equations and other tools such as numerical simulations and experimental testing, engineers can develop effective strategies to prevent FIR and ensure the safety and reliability of structures."
      ],
      "metadata": {
        "id": "r0q3XnVp1EmY"
      }
    }
  ]
}