{
  "nbformat": 4,
  "nbformat_minor": 0,
  "metadata": {
    "colab": {
      "provenance": []
    },
    "kernelspec": {
      "name": "python3",
      "display_name": "Python 3"
    },
    "language_info": {
      "name": "python"
    }
  },
  "cells": [
    {
      "cell_type": "markdown",
      "source": [
        "####Q5"
      ],
      "metadata": {
        "id": "Uc71AlLiQn1b"
      }
    },
    {
      "cell_type": "markdown",
      "source": [
        "Use a Rashpberry Pi based data aquistion system and use that to measure the natural frequencies of the 2-DOF rotational plus translational system in the applied mechanics lab using FFTs methods."
      ],
      "metadata": {
        "id": "XeS67Io2Qhql"
      }
    },
    {
      "cell_type": "markdown",
      "source": [
        "sample Python code that can be used to measure the natural frequencies of a 2-DOF rotational plus translational system in the applied mechanics lab using a Raspberry Pi based data acquisition system and FFT methods. \n",
        "python"
      ],
      "metadata": {
        "id": "cXlSW48fO0XG"
      }
    },
    {
      "cell_type": "code",
      "source": [
        "import numpy as np\n",
        "import matplotlib.pyplot as plt\n",
        "import time\n",
        "\n",
        "# Import required libraries for data acquisition and FFT analysis\n",
        "import RPi.GPIO as GPIO\n",
        "import spidev\n",
        "import math\n",
        "\n",
        "# Set up SPI interface for data acquisition from sensor\n",
        "spi = spidev.SpiDev()\n",
        "spi.open(0,0)\n",
        "spi.max_speed_hz = 1350000\n",
        "\n",
        "# Define GPIO pin for data ready signal from sensor\n",
        "DRDY = 26\n",
        "\n",
        "# Set up GPIO pin for data ready signal from sensor\n",
        "GPIO.setmode(GPIO.BCM)\n",
        "GPIO.setup(DRDY, GPIO.IN)\n",
        "\n",
        "# Define sampling frequency and time duration for data acquisition\n",
        "fs = 5000 # Hz\n",
        "duration = 5 # seconds\n",
        "num_samples = fs * duration\n",
        "\n",
        "# Define frequency range of interest for FFT analysis\n",
        "f_min = 0 # Hz\n",
        "f_max = 500 # Hz\n",
        "num_freqs = 500\n",
        "\n",
        "# Initialize data buffer for sensor readings\n",
        "data_buf = []\n",
        "\n",
        "# Wait for data ready signal from sensor\n",
        "while not GPIO.input(DRDY):\n",
        "    time.sleep(0.001)\n",
        "\n",
        "# Start data acquisition\n",
        "for i in range(num_samples):\n",
        "    # Read data from sensor\n",
        "    adc_value = spi.xfer2([0x06,0,0])\n",
        "    adc_value = ((adc_value[1]&0x0F)<<8)+adc_value[2]\n",
        "    voltage = adc_value*3.3/4096\n",
        "    \n",
        "    # Append data to buffer\n",
        "    data_buf.append(voltage)\n",
        "    \n",
        "    # Wait for next sample\n",
        "    time.sleep(1/fs)\n",
        "\n",
        "# Convert data buffer to numpy array for FFT analysis\n",
        "data = np.array(data_buf)\n",
        "\n",
        "# Compute FFT of data using numpy library\n",
        "fft_data = np.fft.fft(data)\n",
        "freqs = np.fft.fftfreq(num_samples, 1/fs)\n",
        "idx = np.where((freqs > f_min) & (freqs < f_max))\n",
        "freqs = freqs[idx]\n",
        "fft_data = fft_data[idx]\n",
        "abs_fft_data = np.abs(fft_data)/num_samples\n",
        "\n",
        "# Find peaks in frequency spectrum for natural frequency detection\n",
        "peaks, _ = scipy.signal.find_peaks(abs_fft_data, height=0.1)\n",
        "\n",
        "# Plot frequency spectrum with peaks\n",
        "plt.plot(freqs, abs_fft_data)\n",
        "plt.plot(freqs[peaks], abs_fft_data[peaks], 'x')\n",
        "plt.xlabel('Frequency (Hz)')\n",
        "plt.ylabel('Amplitude')\n",
        "plt.title('Frequency Spectrum')\n",
        "plt.show()\n",
        "\n",
        "# Determine natural frequencies of the system from peak locations\n",
        "natural_freqs = freqs[peaks]\n",
        "\n",
        "print('Natural Frequencies:', natural_freqs)\n"
      ],
      "metadata": {
        "id": "XjbYwIdcO3GP"
      },
      "execution_count": null,
      "outputs": []
    },
    {
      "cell_type": "markdown",
      "source": [
        "This code reads data from a sensor connected to a Raspberry Pi through an SPI interface, performs FFT analysis on the acquired data to obtain the frequency spectrum of the system's vibrations, and detects the natural frequencies of the system from the peak locations in the spectrum. "
      ],
      "metadata": {
        "id": "g8ugDeKxPKkH"
      }
    }
  ]
}